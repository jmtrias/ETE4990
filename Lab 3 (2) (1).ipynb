{
 "cells": [
  {
   "cell_type": "markdown",
   "id": "abfb9ed7-bb94-48c3-88f0-6693f26b3f7c",
   "metadata": {},
   "source": [
    "# Lab 3 - Files\n"
   ]
  },
  {
   "cell_type": "markdown",
   "id": "5dd841b5-4e31-428c-a56b-5a74f1aa8c75",
   "metadata": {},
   "source": [
    "## Warm-up \n",
    "Using the file Car.txt found in lecture canvas page.\n",
    "Part 1:\n",
    "Write a function that can open a file. Read its output and save it to a list. (look at lecture notes if you need help)\n",
    "\n",
    "Part 2: \n",
    "Using a function that at minimum takes a list and outputs desired information to a file.  (do not use rstrip for this.\n",
    "\n",
    "For example \n",
    "```python\n",
    "def foo (bar, user_string):\n",
    "    if user_string in bar:\n",
    "        # save the file here\n",
    "```\n",
    "\n"
   ]
  },
  {
   "cell_type": "code",
   "execution_count": null,
   "id": "9916dca4-e082-47ba-957a-d285cd0abce0",
   "metadata": {},
   "outputs": [],
   "source": [
    "# Code goes here"
   ]
  },
  {
   "cell_type": "markdown",
   "id": "bc4fbb46-483b-479b-97d5-82e2dc7f4346",
   "metadata": {},
   "source": [
    "# Main Lab\n",
    "\n",
    "Begin working with your partner on your project. Begin to plan out how you would like your game to feel. Remember this is a text-based game. This can be any game you would like (RPG is the easiest to understand but you can do any type of game please stay away from games like poker or 21 as these tend to be boring to code and hard to expand on, and obviously games that may get you reported by the university)\n",
    "\n",
    "\n",
    "## Part 1:\n",
    "Create class' for your game: You may use  paper and pencil or a planning tool to begin to plan the overall scope of your game. You will be required to turn in a planning tool output next week. (You may use whatever tool you desire) \n",
    "\n",
    "Create a Flow diagram of your game and how you would like it to play. Keep it simple.\n",
    "\n",
    "This is due before you leave the class today. It does not need to be your final version. \n",
    "\n",
    "\n",
    "## Part 2:\n",
    "Start writing the code\n",
    "\n",
    "keep in mind that when you write your code you will need to be loading in your player and tools/items/etc. So plan acordingly.\n",
    "\n",
    "Here is an example:\n",
    "```python \n",
    "class Sharps(object):\n",
    "    \"\"\"Create a sharp weapon\"\"\"\n",
    "    def __init__(self, name, length, age, damage):\n",
    "        \"\"\" Initialize name, age, and length damage attributes.\"\"\"\n",
    "        self.name = name\n",
    "        self.age = age\n",
    "        self.length = length\n",
    "        self.damage = damage\n",
    "    def do_damage(self, target):\n",
    "        target = target - self.damage\n",
    "\n",
    "class dager(Sharps):\n",
    "    \"\"\" makes a dager\"\"\"\n",
    "    def __init__(self, self, name, length, age, damage):\n",
    "        \"\"\"sets up a dagger\"\"\"\n",
    "        super().__init__(self, name, length, age, damage))\n",
    "        self.poision = True\n",
    "```\n",
    "        \n",
    "\n"
   ]
  },
  {
   "cell_type": "markdown",
   "id": "d4e72f89-2f00-4359-8dd7-3ee537833e4a",
   "metadata": {},
   "source": [
    "## Part 3: \n",
    "\n",
    "Create a list of objects that you will be using in your game and store that information in JSON format. \n",
    "You do not need to code this but you will need a file with a starting list of all the assets needed to play your game. "
   ]
  },
  {
   "cell_type": "code",
   "execution_count": 2,
   "id": "89d845dc-d287-4566-be17-20ae39fffd50",
   "metadata": {
    "tags": []
   },
   "outputs": [],
   "source": [
    "import json\n",
    "\n",
    "Palballs = [{\n",
    "    \"Name\": \"Regular Ball\",\n",
    "    \"Slogan\": \"'Just a regular Palball'\",\n",
    "    \"Effectiveness\": {\"Catch Rate\": 30}\n",
    "  \n",
    "},\n",
    "{  \n",
    "    \"Name\": \"Great Ball\",\n",
    "    \"Slogan\": \"'Better... but not perfect'\",\n",
    "    \"Effectiveness\": {\"Catch Rate\": 55}\n",
    "\n",
    "\n",
    "},\n",
    "{  \n",
    "    \"Name\": \"Master Ball\",\n",
    "    \"Slogan\": \"'Literally one shot'\",\n",
    "    \"Effectiveness\": {\"Catch Rate\": 100}\n",
    "\n",
    "\n",
    "},\n",
    "{\n",
    "    \"Name\": \"Fast Ball\",\n",
    "    \"Slogan\": \"'Wanna see it again?'\",\n",
    "    \"Effectiveness\": {\"Catch Rate\": 40}\n",
    "}\n",
    "]\n",
    "Palfile = 'Palballs.json'\n",
    "with open(Palfile, 'w') as f:\n",
    "    json.dump(Palballs, f)"
   ]
  },
  {
   "cell_type": "code",
   "execution_count": 4,
   "id": "f3ab4a49-5941-4cf0-bb46-a4a1ce4add71",
   "metadata": {
    "tags": []
   },
   "outputs": [
    {
     "name": "stdout",
     "output_type": "stream",
     "text": [
      "Welcome to the world of Palmon!\n"
     ]
    },
    {
     "name": "stdin",
     "output_type": "stream",
     "text": [
      "What is your name? Jeremy\n",
      "What team do you want to join? 'Gold' or 'Silver' Gold\n"
     ]
    },
    {
     "name": "stdout",
     "output_type": "stream",
     "text": [
      "Welcome to team Gold!\n"
     ]
    },
    {
     "name": "stdin",
     "output_type": "stream",
     "text": [
      "Choose your Palmon! 'Charmander' or 'Squirtle' Charmander\n"
     ]
    },
    {
     "name": "stdout",
     "output_type": "stream",
     "text": [
      "Your Palmon's name is: Charmander\n",
      "Starting health: 100\n",
      "Starting damage = 10\n",
      "Charmander 's accuracy is 80%\n",
      "Charmander 's critical hit is 10\n",
      "Special move: Dragon Breath. If executed, this attack has 3x damage and 40% accuracy\n"
     ]
    },
    {
     "name": "stdin",
     "output_type": "stream",
     "text": [
      "Would you like to add/remove a Palball or exit?  add\n"
     ]
    },
    {
     "name": "stdout",
     "output_type": "stream",
     "text": [
      "Available Palballs:\n",
      "1. Regular Ball - 'Just a regular Palball'\n",
      "2. Great Ball - 'Better... but not perfect'\n",
      "3. Master Ball - 'Literally one shot'\n",
      "4. Fast Ball - 'Wanna see it again?'\n"
     ]
    },
    {
     "name": "stdin",
     "output_type": "stream",
     "text": [
      "Choose a Palball to add:  3\n"
     ]
    },
    {
     "name": "stdout",
     "output_type": "stream",
     "text": [
      "Added Master Ball to inventory.\n"
     ]
    },
    {
     "name": "stdin",
     "output_type": "stream",
     "text": [
      "Would you like to add/remove a Palball or exit?  add\n"
     ]
    },
    {
     "name": "stdout",
     "output_type": "stream",
     "text": [
      "Available Palballs:\n",
      "1. Regular Ball - 'Just a regular Palball'\n",
      "2. Great Ball - 'Better... but not perfect'\n",
      "3. Master Ball - 'Literally one shot'\n",
      "4. Fast Ball - 'Wanna see it again?'\n"
     ]
    },
    {
     "name": "stdin",
     "output_type": "stream",
     "text": [
      "Choose a Palball to add:  4\n"
     ]
    },
    {
     "name": "stdout",
     "output_type": "stream",
     "text": [
      "Added Fast Ball to inventory.\n"
     ]
    },
    {
     "name": "stdin",
     "output_type": "stream",
     "text": [
      "Would you like to add/remove a Palball or exit?  remove\n"
     ]
    },
    {
     "name": "stdout",
     "output_type": "stream",
     "text": [
      "Your inventory:\n",
      "Master Ball\n",
      "Fast Ball\n"
     ]
    },
    {
     "name": "stdin",
     "output_type": "stream",
     "text": [
      "Enter the name of the Palball to remove:  Fast Ball\n"
     ]
    },
    {
     "name": "stdout",
     "output_type": "stream",
     "text": [
      "Removed Fast Ball from inventory.\n"
     ]
    },
    {
     "name": "stdin",
     "output_type": "stream",
     "text": [
      "Would you like to add/remove a Palball or exit?  exit\n"
     ]
    }
   ],
   "source": [
    "import json #importing json file into code\n",
    "\n",
    "Palfile = 'Palballs.json' \n",
    "with open(Palfile) as f:\n",
    "    Palballs = json.load(f)\n",
    "\n",
    "print(\"Welcome to the world of Palmon!\")\n",
    "            \n",
    "class Player:\n",
    "    \"\"\" sets the condition of a player's team and name \"\"\"\n",
    "    def __init__(self, name=None, team=None):\n",
    "    \n",
    "        if player_team == \"Gold\":\n",
    "            print(\"Welcome to team Gold!\")\n",
    "        else:\n",
    "            print(\"Welcome to team Silver!\")\n",
    "            \n",
    "        self.inventory = []\n",
    "        self.display_inventory = []\n",
    "        \n",
    "    def add_palball(self, palball):\n",
    "        self.inventory.append(palball)\n",
    "        print(f\"Added {palball['Name']} to inventory.\")\n",
    "        \n",
    "    def remove_palball(self, palball_name):\n",
    "        for item in self.inventory:\n",
    "            if item[\"Name\"] == palball_name:\n",
    "                self.inventory.remove(item)\n",
    "                print(f\"Removed {palball_name} from inventory.\")\n",
    "\n",
    "\n",
    "class Palmon:\n",
    "        \"\"\" sets Palmon's statistics \"\"\"\n",
    "        def __init__ (self, name, palmon_type, health, damage, accuracy, critical_hit):\n",
    "            self.name = name\n",
    "            self.palmon_type = palmon_type\n",
    "            self.damage = damage\n",
    "            self.accuracy = accuracy\n",
    "            self.critical_hit = critical_hit\n",
    "            self.health = health\n",
    "        \n",
    "        def start_health(self):\n",
    "            print(\"Starting health:\", self.health) \n",
    "            \n",
    "        def start_damage(self):\n",
    "            print(\"Starting damage =\", self.damage)\n",
    "            \n",
    "        def start_accuracy(self):\n",
    "            print(palmon_name,\"'s accuracy is\", self.accuracy)\n",
    "            \n",
    "        def start_critical(self):    \n",
    "            print(palmon_name,\"'s critical hit is\", self.critical_hit)\n",
    "            \n",
    "            \n",
    "class Charmander(Palmon):\n",
    "    \"\"\"Palmon charmander, inheritting from palmon class\"\"\"\n",
    "    def __init__(self, palmon_type, health, damage, accuracy, critical_hit, special):\n",
    "        \"\"\"stating what will be inheritted from Palmon parent\"\"\"\n",
    "        super().__init__(self, palmon_type, health, damage, accuracy, critical_hit)\n",
    "        self.special = special\n",
    "        \n",
    "    def dragon_breath(self):\n",
    "        \"\"\"Special move: Dragon Breath. If executed, this attack has 3x damage but 40% accuracy\"\"\"\n",
    "        print(\"Special move: Dragon Breath. If executed, this attack has 3x damage and 40% accuracy\")\n",
    "        self.damage *=3\n",
    "        self.accuracy = \"40%\"\n",
    "\n",
    "class Squirtle(Palmon):\n",
    "    \"\"\"Palmon Squirtle, inheritting from palmon class\"\"\"\n",
    "    def __init__(self, palmon_type, health, damage, accuracy, critical_hit, special):\n",
    "        \"\"\"stating what will be inheritted from Palmon parent\"\"\"\n",
    "        super().__init__(self, palmon_type, health, damage, accuracy, critical_hit)\n",
    "        self.special = special\n",
    "        \n",
    "    def aqua_jet(self):\n",
    "        \"\"\"Special move: Aqua Jet. If executed, this attack has 2x damage but 50% accuracy\"\"\"\n",
    "        print(\"Special move: Aqua Jet. If executed, this attack has 2x damage and 50% accuracy\")\n",
    "        self.damage *=2\n",
    "        self.accuracy = \"50%\"\n",
    "        \n",
    "\n",
    "player_name = input(\"What is your name?\")\n",
    "player_team = input(\"What team do you want to join? 'Gold' or 'Silver'\")\n",
    "while player_team not in (\"Gold\", \"Silver\"):\n",
    "    print(\"Invalid, choose a team\")\n",
    "    player_team = input(\"What team do you want to join? 'Gold' or 'Silver'\")    \n",
    "player = Player(player_name, player_team)\n",
    "\n",
    "my_palmon = input(\"Choose your Palmon! 'Charmander' or 'Squirtle'\")\n",
    "while my_palmon not in (\"Charmander\", \"Squirtle\"):\n",
    "    print(\"Invalid, choose a Palmon\")\n",
    "    my_palmon = input(\"Choose your Palmon! 'Charmander' or 'Squirtle'\")\n",
    "if my_palmon == \"Charmander\":\n",
    "    palmon_name = \"Charmander\"\n",
    "    my_palmon = Charmander(\"Fire\", 100, 10, \"80%\", 10, \"Dragon Breath\")\n",
    "    print(\"Your Palmon's name is:\", palmon_name)\n",
    "    my_palmon.start_health()\n",
    "    my_palmon.start_damage()\n",
    "    my_palmon.start_accuracy()\n",
    "    my_palmon.start_critical()\n",
    "    my_palmon.dragon_breath()\n",
    "elif my_palmon == \"Squirtle\":\n",
    "    palmon_name = \"Squirtle\"\n",
    "    my_palmon = Squirtle(\"Water\", 100, 10, \"80%\", 10, \"Aqua Jet\")\n",
    "    print(\"Your Palmon's name is:\", palmon_name)\n",
    "    my_palmon.start_health()\n",
    "    my_palmon.start_damage()\n",
    "    my_palmon.start_accuracy()\n",
    "    my_palmon.start_critical()\n",
    "    my_palmon.aqua_jet()\n",
    "\n",
    "#This section was really difficult and I had to use ChatGPT to generate code that would allow me to choose from the json file\n",
    "action = input(\"Would you like to add/remove a Palball or exit? \")\n",
    "while action != \"exit\": # It was difficult for me to understand how to choose between the different items in the list\n",
    "    if action == \"add\": # It was even harder to know how to display it and create code that will add it to the inventory\n",
    "        print(\"Available Palballs:\")\n",
    "        for i, palball in enumerate(Palballs, 1): \n",
    "            print(f\"{i}. {palball['Name']} - {palball['Slogan']}\")\n",
    "        choice = int(input(\"Choose a Palball to add: \")) - 1\n",
    "        player.add_palball(Palballs[choice])\n",
    "    elif action == \"remove\":\n",
    "        print(\"Your inventory:\")\n",
    "        for item in player.inventory:\n",
    "            print(item['Name'])\n",
    "        palball_name = input(\"Enter the name of the Palball to remove: \")\n",
    "        player.remove_palball(palball_name)\n",
    "    else:\n",
    "        print(\"Invalid action.\")\n",
    "    action = input(\"Would you like to add/remove a Palball or exit? \")"
   ]
  },
  {
   "cell_type": "code",
   "execution_count": null,
   "id": "106ae0de-b30f-422f-a2b6-3e4dd05c3b3b",
   "metadata": {},
   "outputs": [],
   "source": []
  }
 ],
 "metadata": {
  "kernelspec": {
   "display_name": "Python 3 (ipykernel)",
   "language": "python",
   "name": "python3"
  },
  "language_info": {
   "codemirror_mode": {
    "name": "ipython",
    "version": 3
   },
   "file_extension": ".py",
   "mimetype": "text/x-python",
   "name": "python",
   "nbconvert_exporter": "python",
   "pygments_lexer": "ipython3",
   "version": "3.11.5"
  }
 },
 "nbformat": 4,
 "nbformat_minor": 5
}
