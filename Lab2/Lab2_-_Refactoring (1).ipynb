{
 "cells": [
  {
   "cell_type": "markdown",
   "id": "0209af47-6b8d-4f34-8292-aa79deef5088",
   "metadata": {},
   "source": [
    "# Lab 2 - Refactoring\n",
    "## Refactoring is:\n",
    "\n",
    "Refactoring is the process of restructuring or rewriting code, while not changing its original functionality. The goal of refactoring is to improve internal code by making many small changes without altering the code's external behavior. \n",
    "\n",
    "It is easier said than done. "
   ]
  },
  {
   "cell_type": "markdown",
   "id": "f470981d-7433-42f0-a742-a9ddeae57056",
   "metadata": {},
   "source": [
    "### Part 1 - Warm up\n",
    "\n",
    "You will refactor the following code:"
   ]
  },
  {
   "cell_type": "code",
   "execution_count": null,
   "id": "b817e22e-46ae-4dfe-9a38-c3d3e818168b",
   "metadata": {},
   "outputs": [],
   "source": [
    "#stolen from https://realpython.com/python-refactoring/\n",
    "#yes you can go there and look at what they did no do it yourself\n",
    "x = 5\n",
    "value = input(\"Enter a number: \")\n",
    "y = int(value)\n",
    "if x < y:\n",
    "    print(f\"{x} is less than {y}\")\n",
    "elif x == y:\n",
    "    print(f\"{x} is equal to {y}\")\n",
    "else:\n",
    "    print(f\"{x} is more than {y}\")"
   ]
  },
  {
   "cell_type": "code",
   "execution_count": null,
   "id": "033cf53c-96bc-4174-813d-09ad088787d6",
   "metadata": {},
   "outputs": [],
   "source": [
    "# put your refactored code here"
   ]
  },
  {
   "cell_type": "markdown",
   "id": "bb9edc37-9bd7-4b4a-8ec1-d1465d85be37",
   "metadata": {},
   "source": [
    "## Part 2\n",
    "Refactor Lab 1 into a function that can be used over and over again"
   ]
  },
  {
   "cell_type": "code",
   "execution_count": 27,
   "id": "733c4d16-c02c-4058-9cb6-4b751c86dc93",
   "metadata": {
    "tags": []
   },
   "outputs": [
    {
     "name": "stdin",
     "output_type": "stream",
     "text": [
      "Enter 'yes' to play or 'no' to exit yes\n"
     ]
    },
    {
     "name": "stdout",
     "output_type": "stream",
     "text": [
      "Your roll: 6 \n",
      "CPU roll: 1\n",
      "\tYOU WON!\n",
      "Your roll: 2 \n",
      "CPU roll: 3\n",
      "\tWhy'd you lose?\n",
      "Your roll: 2 \n",
      "CPU roll: 1\n",
      "\tYOU WON!\n",
      "Your roll: 2 \n",
      "CPU roll: 6\n",
      "\tWhy'd you lose?\n",
      "Your roll: 5 \n",
      "CPU roll: 2\n",
      "\tYOU WON!\n",
      "GAME STATISTICS: \n",
      "\tGameplay: [1]\n",
      "\tUser Win(s): 3 \n",
      "\tCPU Win(s): 2 \n",
      "\tTie(s): 0\n",
      "\tYour roll: [6, 2, 2, 2, 5] \n",
      "\tComputer roll: [1, 3, 1, 6, 2]\n"
     ]
    },
    {
     "name": "stdin",
     "output_type": "stream",
     "text": [
      "Would you like to play again? 'yes' or 'no' yes\n"
     ]
    },
    {
     "name": "stdout",
     "output_type": "stream",
     "text": [
      "Your roll: 4 \n",
      "CPU roll: 5\n",
      "\tWhy'd you lose?\n",
      "Your roll: 2 \n",
      "CPU roll: 3\n",
      "\tWhy'd you lose?\n",
      "Your roll: 3 \n",
      "CPU roll: 6\n",
      "\tWhy'd you lose?\n",
      "Your roll: 2 \n",
      "CPU roll: 4\n",
      "\tWhy'd you lose?\n",
      "Your roll: 1 \n",
      "CPU roll: 3\n",
      "\tWhy'd you lose?\n",
      "GAME STATISTICS: \n",
      "\tGameplay: [1, 2]\n",
      "\tUser Win(s): 3 \n",
      "\tCPU Win(s): 7 \n",
      "\tTie(s): 0\n",
      "\tYour roll: [4, 2, 3, 2, 1] \n",
      "\tComputer roll: [5, 3, 6, 4, 3]\n"
     ]
    },
    {
     "name": "stdin",
     "output_type": "stream",
     "text": [
      "Would you like to play again? 'yes' or 'no' yes\n"
     ]
    },
    {
     "name": "stdout",
     "output_type": "stream",
     "text": [
      "Your roll: 4 \n",
      "CPU roll: 2\n",
      "\tYOU WON!\n",
      "Your roll: 1 \n",
      "CPU roll: 5\n",
      "\tWhy'd you lose?\n",
      "Your roll: 3 \n",
      "CPU roll: 1\n",
      "\tYOU WON!\n",
      "Your roll: 5 \n",
      "CPU roll: 2\n",
      "\tYOU WON!\n",
      "Your roll: 6 \n",
      "CPU roll: 1\n",
      "\tYOU WON!\n",
      "GAME STATISTICS: \n",
      "\tGameplay: [1, 2, 3]\n",
      "\tUser Win(s): 7 \n",
      "\tCPU Win(s): 8 \n",
      "\tTie(s): 0\n",
      "\tYour roll: [4, 1, 3, 5, 6] \n",
      "\tComputer roll: [2, 5, 1, 2, 1]\n"
     ]
    },
    {
     "name": "stdin",
     "output_type": "stream",
     "text": [
      "Would you like to play again? 'yes' or 'no' no\n"
     ]
    },
    {
     "name": "stdout",
     "output_type": "stream",
     "text": [
      "GG\n"
     ]
    }
   ],
   "source": [
    "# think \n",
    "import random\n",
    "user_inp = input(\"Enter 'yes' to play or 'no' to exit\") #takes user input to play or end the game\n",
    "user_list = []  #user roll list\n",
    "cpu_list = []   # cpu roll list\n",
    "gameplay = []   # gameplay attempts list\n",
    "attempts = 1\n",
    "user_wins = 0\n",
    "cpu_wins = 0\n",
    "ties = 0\n",
    "while user_inp != 'no':\n",
    "    cpu_list.clear()\n",
    "    user_list.clear()\n",
    "    for i in range(5):\n",
    "        if user_inp == 'yes': \n",
    "            user_roll = random.randint(1,6)\n",
    "            cpu_roll = random.randint(1,6)\n",
    "            user_list.append(user_roll)\n",
    "            cpu_list.append(cpu_roll) \n",
    "            print('Your roll:', user_roll, '\\nCPU roll:', cpu_roll)          \n",
    "            if user_roll > cpu_roll:\n",
    "                print('\\tYOU WON!')\n",
    "                user_wins+=1\n",
    "            elif cpu_roll == user_roll:\n",
    "                print('\\tTIE! Do better')\n",
    "                ties+=1\n",
    "            elif cpu_roll > user_roll:\n",
    "                print(\"\\tWhy'd you lose?\")\n",
    "                cpu_wins+=1\n",
    "            else:\n",
    "                print('GAME OVER')\n",
    "\n",
    "    gameplay.append(attempts) #adds the next number of attempts into the list\n",
    "    print('GAME STATISTICS:','\\n\\tGameplay:', gameplay)#shows number of game attempts\n",
    "    attempts+=1\n",
    "    print('\\tUser Win(s):', user_wins,'\\n\\tCPU Win(s):',cpu_wins,'\\n\\tTie(s):',ties)\n",
    "    print('\\tYour roll:',user_list,'\\n\\tComputer roll:',cpu_list) #shows the amount of times you're better\n",
    "    user_inp = input(\"Would you like to play again? 'yes' or 'no'\")\n",
    "\n",
    "print('GG')\n"
   ]
  },
  {
   "cell_type": "markdown",
   "id": "e589c6c8-f937-47e0-8db2-a37e03c12336",
   "metadata": {},
   "source": [
    "## Part 3 \n",
    "\n",
    "# But first a preview.... \n",
    "# Project #1  WIP This will change... \n",
    "\n",
    "You are project is to create a text based video game player profile, invintory system, and combat system. You must create a realistic player with at least 10 invintory items. Each item must have a discription and a trate assosiated with it. Have fun with this. \n",
    "\n",
    "You must use all items covered thus far (files (read and write), json, operators, lists, tuples(optional), functions, modules and classes)\n",
    "    \n",
    "- The adventure game should have the option to choose your player type\n",
    "  - Upon choosing your player type player atributes must be set ie wizard magic = 10, knight magic = 0 \n",
    "- Write a function to display the invintory of the player. \n",
    "- Write a function to get more detail on an item in the invintory.\n",
    "  - Knife \"forged in the depths of polymar\", +5 magic, edged weapon, one handed etc \n",
    "      - bonus points for calculating bonuses to wepons when equiping and dequiping \n",
    "- Write a function to add and remove items from the invintory\n",
    "- Ensure I am able to close the program and reload the character (ie files)\n",
    "    \n",
    "\n"
   ]
  },
  {
   "cell_type": "markdown",
   "id": "1fe3ba5e-722b-4ed8-b36f-c9ebd718bd7d",
   "metadata": {},
   "source": [
    "# Project 1 - Part 1\n",
    "Spend time planning out your code. You may work with your partner to plan out your code. How would you like your game to play? \n",
    "\n",
    "Use a UML planner like: \n",
    "\n",
    "\n",
    "https://miro.com/\n"
   ]
  },
  {
   "cell_type": "code",
   "execution_count": null,
   "id": "3bdce5be-0a31-4cf9-ba17-0f5be8cefc33",
   "metadata": {},
   "outputs": [],
   "source": []
  }
 ],
 "metadata": {
  "kernelspec": {
   "display_name": "Python 3 (ipykernel)",
   "language": "python",
   "name": "python3"
  },
  "language_info": {
   "codemirror_mode": {
    "name": "ipython",
    "version": 3
   },
   "file_extension": ".py",
   "mimetype": "text/x-python",
   "name": "python",
   "nbconvert_exporter": "python",
   "pygments_lexer": "ipython3",
   "version": "3.11.5"
  }
 },
 "nbformat": 4,
 "nbformat_minor": 5
}
